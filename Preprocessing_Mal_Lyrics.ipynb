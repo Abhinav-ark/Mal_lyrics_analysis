{
  "cells": [
    {
      "cell_type": "code",
      "execution_count": 1,
      "metadata": {
        "id": "flEtace2A4S1"
      },
      "outputs": [],
      "source": [
        "import pandas as pd"
      ]
    },
    {
      "cell_type": "code",
      "execution_count": 2,
      "metadata": {
        "colab": {
          "base_uri": "https://localhost:8080/",
          "height": 704
        },
        "id": "0SMph8UOBGwe",
        "outputId": "a7136873-7b29-496a-eff1-11dc6d180897"
      },
      "outputs": [
        {
          "data": {
            "text/html": [
              "<div>\n",
              "<style scoped>\n",
              "    .dataframe tbody tr th:only-of-type {\n",
              "        vertical-align: middle;\n",
              "    }\n",
              "\n",
              "    .dataframe tbody tr th {\n",
              "        vertical-align: top;\n",
              "    }\n",
              "\n",
              "    .dataframe thead th {\n",
              "        text-align: right;\n",
              "    }\n",
              "</style>\n",
              "<table border=\"1\" class=\"dataframe\">\n",
              "  <thead>\n",
              "    <tr style=\"text-align: right;\">\n",
              "      <th></th>\n",
              "      <th>Unnamed: 0</th>\n",
              "      <th>അഭിനേതാക്കള്‍</th>\n",
              "      <th>ഗാനരചന</th>\n",
              "      <th>ഗായകര്‍</th>\n",
              "      <th>വരികൾ</th>\n",
              "      <th>വര്‍ഷം</th>\n",
              "      <th>സംഗീതം</th>\n",
              "      <th>സിനിമ</th>\n",
              "      <th>രാഗം</th>\n",
              "      <th>വര്‍ഗ്ഗീകരണം</th>\n",
              "    </tr>\n",
              "  </thead>\n",
              "  <tbody>\n",
              "    <tr>\n",
              "      <th>0</th>\n",
              "      <td>0</td>\n",
              "      <td>സുരേഷ് ഗോപി ,നെടുമുടി വേണു ,കവിയൂർ പൊന്നമ്മ ,വ...</td>\n",
              "      <td>ഗിരീഷ് പുത്തഞ്ചേരി</td>\n",
              "      <td>കെ ജെ യേശുദാസ്</td>\n",
              "      <td>മായും മായാമേഘങ്ങളേ\\nമണ്ണില്‍ പൊഴിയും മാമ്പൂക്ക...</td>\n",
              "      <td>2011.0</td>\n",
              "      <td>രഘുകുമാർ</td>\n",
              "      <td>കലക്ടർ</td>\n",
              "      <td>NaN</td>\n",
              "      <td>NaN</td>\n",
              "    </tr>\n",
              "    <tr>\n",
              "      <th>1</th>\n",
              "      <td>1</td>\n",
              "      <td>NaN</td>\n",
              "      <td>രാപ്പാള്‍ സുകുമാരമേനോന്‍</td>\n",
              "      <td>കെ ജെ യേശുദാസ്</td>\n",
              "      <td>വരൂ വരൂ കണ്മണി കണി തരും പൊന്മണി\\nമീട്ടിടാം കളമ...</td>\n",
              "      <td>1988.0</td>\n",
              "      <td>ജെറി അമല്‍ദേവ്‌</td>\n",
              "      <td>ശംഖനാദം</td>\n",
              "      <td>NaN</td>\n",
              "      <td>NaN</td>\n",
              "    </tr>\n",
              "    <tr>\n",
              "      <th>2</th>\n",
              "      <td>2</td>\n",
              "      <td>NaN</td>\n",
              "      <td>മുതുകുളം രാഘവൻ പിള്ള</td>\n",
              "      <td>NaN</td>\n",
              "      <td>\\n\\nമാരന്‍ ഘോരശരങ്ങള്‍കൊണ്ടുടലിനെ\\nഭസ്മീകരിപ്...</td>\n",
              "      <td>1938.0</td>\n",
              "      <td>കെ കെ അരൂര്‍ ,ഇബ്രാഹിം</td>\n",
              "      <td>ബാലന്‍</td>\n",
              "      <td>കാംബോജി</td>\n",
              "      <td>NaN</td>\n",
              "    </tr>\n",
              "    <tr>\n",
              "      <th>3</th>\n",
              "      <td>3</td>\n",
              "      <td>NaN</td>\n",
              "      <td>പി ഭാസ്കരന്‍</td>\n",
              "      <td>എസ് ജാനകി</td>\n",
              "      <td>മാവു പൂത്തു മാതളം പൂത്തു\\nതാന്നി പൂത്തു തമ്പകം...</td>\n",
              "      <td>1970.0</td>\n",
              "      <td>എം എസ്‌ ബാബുരാജ്‌</td>\n",
              "      <td>അമ്പലപ്രാവ്</td>\n",
              "      <td>NaN</td>\n",
              "      <td>NaN</td>\n",
              "    </tr>\n",
              "    <tr>\n",
              "      <th>4</th>\n",
              "      <td>4</td>\n",
              "      <td>NaN</td>\n",
              "      <td>രാജീവ് ആലുങ്കൽ</td>\n",
              "      <td>എസ്‌ ജയന്‍ ,അഞ്ജന</td>\n",
              "      <td>പൊൻ‌വസന്ത കാലമായിതാ...\\nനന്മയാർന്ന ഗ്രാമവീഥിയി...</td>\n",
              "      <td>2007.0</td>\n",
              "      <td>എസ്‌ ജയന്‍</td>\n",
              "      <td>ഇന്ദ്രജിത്ത്‌</td>\n",
              "      <td>NaN</td>\n",
              "      <td>NaN</td>\n",
              "    </tr>\n",
              "    <tr>\n",
              "      <th>...</th>\n",
              "      <td>...</td>\n",
              "      <td>...</td>\n",
              "      <td>...</td>\n",
              "      <td>...</td>\n",
              "      <td>...</td>\n",
              "      <td>...</td>\n",
              "      <td>...</td>\n",
              "      <td>...</td>\n",
              "      <td>...</td>\n",
              "      <td>...</td>\n",
              "    </tr>\n",
              "    <tr>\n",
              "      <th>95</th>\n",
              "      <td>95</td>\n",
              "      <td>ബിന്ദുപണിക്കർ,ടി എസ് രാജു</td>\n",
              "      <td>ഗിരീഷ് പുത്തഞ്ചേരി</td>\n",
              "      <td>എസ് ജാനകി</td>\n",
              "      <td>കണ്ണേ കണ്മണിമുത്തേ മുന്തിരിവാവേ\\nനിന്നേ നെഞ്ചി...</td>\n",
              "      <td>2001.0</td>\n",
              "      <td>കെ എല്‍ ശ്രീറാം</td>\n",
              "      <td>മഴമേഘപ്രാവുകള്‍</td>\n",
              "      <td>NaN</td>\n",
              "      <td>NaN</td>\n",
              "    </tr>\n",
              "    <tr>\n",
              "      <th>96</th>\n",
              "      <td>96</td>\n",
              "      <td>NaN</td>\n",
              "      <td>വി സി അഭിലാഷ്</td>\n",
              "      <td>സൂരജ് സന്തോഷ് ,ഹരിത ബാലകൃഷ്ണൻ,കോറസ്‌</td>\n",
              "      <td>ഇവിടെ ക്ലിക്ക് ചെയ്തു ചേര്‍ക്കാം</td>\n",
              "      <td>2022.0</td>\n",
              "      <td>ശ്രീനാഥ് ശിവശങ്കരൻ</td>\n",
              "      <td>സബാഷ് ചന്ദ്രബോസ്</td>\n",
              "      <td>NaN</td>\n",
              "      <td>NaN</td>\n",
              "    </tr>\n",
              "    <tr>\n",
              "      <th>97</th>\n",
              "      <td>97</td>\n",
              "      <td>NaN</td>\n",
              "      <td>പി ഭാസ്കരന്‍</td>\n",
              "      <td>മെഹബൂബ്‌</td>\n",
              "      <td>വണ്ടീ പുകവണ്ടീ\\nവണ്ടീ വണ്ടീ നിന്നെപ്പോലെ വയറില...</td>\n",
              "      <td>1963.0</td>\n",
              "      <td>ജി ദേവരാജന്‍</td>\n",
              "      <td>ഡോക്ടര്‍</td>\n",
              "      <td>NaN</td>\n",
              "      <td>NaN</td>\n",
              "    </tr>\n",
              "    <tr>\n",
              "      <th>98</th>\n",
              "      <td>98</td>\n",
              "      <td>NaN</td>\n",
              "      <td>ബി കെ ഹരിനാരായണന്‍</td>\n",
              "      <td>എം ജി ശ്രീകുമാർ ,ശ്രേയ ജയദീപ്</td>\n",
              "      <td>ചുന്ദരി വാവേ ചുന്ദരി വാവേ\\nചായോ ചായുറങ്ങ്...\\n...</td>\n",
              "      <td>2017.0</td>\n",
              "      <td>4 മ്യൂസിക്സ്</td>\n",
              "      <td>സദൃശവാക്യം 24:29</td>\n",
              "      <td>NaN</td>\n",
              "      <td>NaN</td>\n",
              "    </tr>\n",
              "    <tr>\n",
              "      <th>99</th>\n",
              "      <td>99</td>\n",
              "      <td>NaN</td>\n",
              "      <td>രാജേഷ് ക്രൌൺ</td>\n",
              "      <td>പാപ്പാ ബലൂഷി ,അങ്കിത്ത്</td>\n",
              "      <td>ഇവിടെ ക്ലിക്ക് ചെയ്തു ചേര്‍ക്കാം</td>\n",
              "      <td>2017.0</td>\n",
              "      <td>ഷിബു സുകുമാരൻ</td>\n",
              "      <td>ലൗ ബോണ്ട</td>\n",
              "      <td>NaN</td>\n",
              "      <td>NaN</td>\n",
              "    </tr>\n",
              "  </tbody>\n",
              "</table>\n",
              "<p>100 rows × 10 columns</p>\n",
              "</div>"
            ],
            "text/plain": [
              "    Unnamed: 0                                      അഭിനേതാക്കള്‍  \\\n",
              "0            0  സുരേഷ് ഗോപി ,നെടുമുടി വേണു ,കവിയൂർ പൊന്നമ്മ ,വ...   \n",
              "1            1                                                NaN   \n",
              "2            2                                                NaN   \n",
              "3            3                                                NaN   \n",
              "4            4                                                NaN   \n",
              "..         ...                                                ...   \n",
              "95          95                          ബിന്ദുപണിക്കർ,ടി എസ് രാജു   \n",
              "96          96                                                NaN   \n",
              "97          97                                                NaN   \n",
              "98          98                                                NaN   \n",
              "99          99                                                NaN   \n",
              "\n",
              "                       ഗാനരചന                                ഗായകര്‍  \\\n",
              "0         ഗിരീഷ് പുത്തഞ്ചേരി                         കെ ജെ യേശുദാസ്    \n",
              "1   രാപ്പാള്‍ സുകുമാരമേനോന്‍                         കെ ജെ യേശുദാസ്    \n",
              "2        മുതുകുളം രാഘവൻ പിള്ള                                    NaN   \n",
              "3               പി ഭാസ്കരന്‍                              എസ് ജാനകി    \n",
              "4             രാജീവ് ആലുങ്കൽ                      എസ്‌ ജയന്‍ ,അഞ്ജന    \n",
              "..                        ...                                    ...   \n",
              "95        ഗിരീഷ് പുത്തഞ്ചേരി                              എസ് ജാനകി    \n",
              "96             വി സി അഭിലാഷ്   സൂരജ് സന്തോഷ് ,ഹരിത ബാലകൃഷ്ണൻ,കോറസ്‌    \n",
              "97              പി ഭാസ്കരന്‍                               മെഹബൂബ്‌    \n",
              "98        ബി കെ ഹരിനാരായണന്‍          എം ജി ശ്രീകുമാർ ,ശ്രേയ ജയദീപ്    \n",
              "99              രാജേഷ് ക്രൌൺ                പാപ്പാ ബലൂഷി ,അങ്കിത്ത്    \n",
              "\n",
              "                                                വരികൾ  വര്‍ഷം   \\\n",
              "0   മായും മായാമേഘങ്ങളേ\\nമണ്ണില്‍ പൊഴിയും മാമ്പൂക്ക...   2011.0   \n",
              "1   വരൂ വരൂ കണ്മണി കണി തരും പൊന്മണി\\nമീട്ടിടാം കളമ...   1988.0   \n",
              "2    \\n\\nമാരന്‍ ഘോരശരങ്ങള്‍കൊണ്ടുടലിനെ\\nഭസ്മീകരിപ്...   1938.0   \n",
              "3   മാവു പൂത്തു മാതളം പൂത്തു\\nതാന്നി പൂത്തു തമ്പകം...   1970.0   \n",
              "4   പൊൻ‌വസന്ത കാലമായിതാ...\\nനന്മയാർന്ന ഗ്രാമവീഥിയി...   2007.0   \n",
              "..                                                ...      ...   \n",
              "95  കണ്ണേ കണ്മണിമുത്തേ മുന്തിരിവാവേ\\nനിന്നേ നെഞ്ചി...   2001.0   \n",
              "96                   ഇവിടെ ക്ലിക്ക് ചെയ്തു ചേര്‍ക്കാം   2022.0   \n",
              "97  വണ്ടീ പുകവണ്ടീ\\nവണ്ടീ വണ്ടീ നിന്നെപ്പോലെ വയറില...   1963.0   \n",
              "98  ചുന്ദരി വാവേ ചുന്ദരി വാവേ\\nചായോ ചായുറങ്ങ്...\\n...   2017.0   \n",
              "99                   ഇവിടെ ക്ലിക്ക് ചെയ്തു ചേര്‍ക്കാം   2017.0   \n",
              "\n",
              "                    സംഗീതം             സിനിമ      രാഗം വര്‍ഗ്ഗീകരണം  \n",
              "0                രഘുകുമാർ             കലക്ടർ       NaN          NaN  \n",
              "1         ജെറി അമല്‍ദേവ്‌            ശംഖനാദം       NaN          NaN  \n",
              "2   കെ കെ അരൂര്‍ ,ഇബ്രാഹിം            ബാലന്‍  കാംബോജി           NaN  \n",
              "3       എം എസ്‌ ബാബുരാജ്‌        അമ്പലപ്രാവ്       NaN          NaN  \n",
              "4              എസ്‌ ജയന്‍      ഇന്ദ്രജിത്ത്‌       NaN          NaN  \n",
              "..                     ...               ...       ...          ...  \n",
              "95        കെ എല്‍ ശ്രീറാം    മഴമേഘപ്രാവുകള്‍       NaN          NaN  \n",
              "96      ശ്രീനാഥ് ശിവശങ്കരൻ  സബാഷ് ചന്ദ്രബോസ്       NaN          NaN  \n",
              "97           ജി ദേവരാജന്‍           ഡോക്ടര്‍       NaN          NaN  \n",
              "98            4 മ്യൂസിക്സ്  സദൃശവാക്യം 24:29       NaN          NaN  \n",
              "99          ഷിബു സുകുമാരൻ           ലൗ ബോണ്ട       NaN          NaN  \n",
              "\n",
              "[100 rows x 10 columns]"
            ]
          },
          "execution_count": 2,
          "metadata": {},
          "output_type": "execute_result"
        }
      ],
      "source": [
        "df = pd.read_csv('./dataset.csv')\n",
        "df.head(100)"
      ]
    },
    {
      "cell_type": "code",
      "execution_count": 3,
      "metadata": {
        "colab": {
          "base_uri": "https://localhost:8080/",
          "height": 300
        },
        "id": "lQu4tlQlFTrm",
        "outputId": "9341d55c-94ef-4e93-e44c-de1456a2c17b"
      },
      "outputs": [
        {
          "data": {
            "text/html": [
              "<div>\n",
              "<style scoped>\n",
              "    .dataframe tbody tr th:only-of-type {\n",
              "        vertical-align: middle;\n",
              "    }\n",
              "\n",
              "    .dataframe tbody tr th {\n",
              "        vertical-align: top;\n",
              "    }\n",
              "\n",
              "    .dataframe thead th {\n",
              "        text-align: right;\n",
              "    }\n",
              "</style>\n",
              "<table border=\"1\" class=\"dataframe\">\n",
              "  <thead>\n",
              "    <tr style=\"text-align: right;\">\n",
              "      <th></th>\n",
              "      <th>Unnamed: 0</th>\n",
              "      <th>വര്‍ഷം</th>\n",
              "    </tr>\n",
              "  </thead>\n",
              "  <tbody>\n",
              "    <tr>\n",
              "      <th>count</th>\n",
              "      <td>26232.000000</td>\n",
              "      <td>26152.000000</td>\n",
              "    </tr>\n",
              "    <tr>\n",
              "      <th>mean</th>\n",
              "      <td>13115.500000</td>\n",
              "      <td>1994.658649</td>\n",
              "    </tr>\n",
              "    <tr>\n",
              "      <th>std</th>\n",
              "      <td>7572.670467</td>\n",
              "      <td>18.434291</td>\n",
              "    </tr>\n",
              "    <tr>\n",
              "      <th>min</th>\n",
              "      <td>0.000000</td>\n",
              "      <td>1938.000000</td>\n",
              "    </tr>\n",
              "    <tr>\n",
              "      <th>25%</th>\n",
              "      <td>6557.750000</td>\n",
              "      <td>1980.000000</td>\n",
              "    </tr>\n",
              "    <tr>\n",
              "      <th>50%</th>\n",
              "      <td>13115.500000</td>\n",
              "      <td>1997.000000</td>\n",
              "    </tr>\n",
              "    <tr>\n",
              "      <th>75%</th>\n",
              "      <td>19673.250000</td>\n",
              "      <td>2012.000000</td>\n",
              "    </tr>\n",
              "    <tr>\n",
              "      <th>max</th>\n",
              "      <td>26231.000000</td>\n",
              "      <td>2022.000000</td>\n",
              "    </tr>\n",
              "  </tbody>\n",
              "</table>\n",
              "</div>"
            ],
            "text/plain": [
              "         Unnamed: 0       വര്‍ഷം \n",
              "count  26232.000000  26152.000000\n",
              "mean   13115.500000   1994.658649\n",
              "std     7572.670467     18.434291\n",
              "min        0.000000   1938.000000\n",
              "25%     6557.750000   1980.000000\n",
              "50%    13115.500000   1997.000000\n",
              "75%    19673.250000   2012.000000\n",
              "max    26231.000000   2022.000000"
            ]
          },
          "execution_count": 3,
          "metadata": {},
          "output_type": "execute_result"
        }
      ],
      "source": [
        "df.describe()"
      ]
    },
    {
      "cell_type": "code",
      "execution_count": 4,
      "metadata": {
        "colab": {
          "base_uri": "https://localhost:8080/"
        },
        "id": "3S0UYD1JFYMx",
        "outputId": "9f3f5ee7-1fec-4038-f0da-a07777eb24be"
      },
      "outputs": [
        {
          "name": "stdout",
          "output_type": "stream",
          "text": [
            "<class 'pandas.core.frame.DataFrame'>\n",
            "RangeIndex: 26232 entries, 0 to 26231\n",
            "Data columns (total 10 columns):\n",
            " #   Column         Non-Null Count  Dtype  \n",
            "---  ------         --------------  -----  \n",
            " 0   Unnamed: 0     26232 non-null  int64  \n",
            " 1   അഭിനേതാക്കള്‍  8498 non-null   object \n",
            " 2   ഗാനരചന         25832 non-null  object \n",
            " 3   ഗായകര്‍        24981 non-null  object \n",
            " 4   വരികൾ          26029 non-null  object \n",
            " 5   വര്‍ഷം         26152 non-null  float64\n",
            " 6   സംഗീതം         26170 non-null  object \n",
            " 7   സിനിമ          26232 non-null  object \n",
            " 8   രാഗം           3662 non-null   object \n",
            " 9   വര്‍ഗ്ഗീകരണം   2361 non-null   object \n",
            "dtypes: float64(1), int64(1), object(8)\n",
            "memory usage: 2.0+ MB\n"
          ]
        }
      ],
      "source": [
        "df.info()"
      ]
    },
    {
      "cell_type": "code",
      "execution_count": 5,
      "metadata": {
        "colab": {
          "base_uri": "https://localhost:8080/"
        },
        "id": "73rhQObOFilT",
        "outputId": "423dbeda-be31-48f4-b1a0-0fd362b6ca89"
      },
      "outputs": [
        {
          "data": {
            "text/plain": [
              "Unnamed: 0           0\n",
              "അഭിനേതാക്കള്‍    17734\n",
              "ഗാനരചന             400\n",
              "ഗായകര്‍           1251\n",
              "വരികൾ              203\n",
              "വര്‍ഷം              80\n",
              "സംഗീതം              62\n",
              "സിനിമ                0\n",
              "രാഗം             22570\n",
              "വര്‍ഗ്ഗീകരണം     23871\n",
              "dtype: int64"
            ]
          },
          "execution_count": 5,
          "metadata": {},
          "output_type": "execute_result"
        }
      ],
      "source": [
        "df.isna().sum()"
      ]
    },
    {
      "cell_type": "code",
      "execution_count": 6,
      "metadata": {
        "id": "F6rjGQyDIPV8"
      },
      "outputs": [],
      "source": [
        "df['വര്‍ഷം ']\n",
        "df['വര്‍ഷം '].fillna(0,inplace=True)"
      ]
    },
    {
      "cell_type": "code",
      "execution_count": 7,
      "metadata": {
        "colab": {
          "base_uri": "https://localhost:8080/"
        },
        "id": "ZIcRnW-HI1lA",
        "outputId": "f341eeb9-4a86-4180-d959-47dca176f442"
      },
      "outputs": [
        {
          "data": {
            "text/plain": [
              "Unnamed: 0           0\n",
              "അഭിനേതാക്കള്‍    17734\n",
              "ഗാനരചന             400\n",
              "ഗായകര്‍           1251\n",
              "വരികൾ              203\n",
              "വര്‍ഷം               0\n",
              "സംഗീതം              62\n",
              "സിനിമ                0\n",
              "രാഗം             22570\n",
              "വര്‍ഗ്ഗീകരണം     23871\n",
              "dtype: int64"
            ]
          },
          "execution_count": 7,
          "metadata": {},
          "output_type": "execute_result"
        }
      ],
      "source": [
        "df.isna().sum()"
      ]
    },
    {
      "cell_type": "code",
      "execution_count": 8,
      "metadata": {
        "id": "v32Oc1owGcQx"
      },
      "outputs": [],
      "source": [
        "#df.astype({'വര്‍ഷം ': 'int32'}).dtypes\n",
        "df['വര്‍ഷം '] = df['വര്‍ഷം '].astype('int32')"
      ]
    },
    {
      "cell_type": "code",
      "execution_count": 9,
      "metadata": {
        "colab": {
          "base_uri": "https://localhost:8080/"
        },
        "id": "v4ORtUg1JRE8",
        "outputId": "66213bb8-b020-45f8-a42b-3227c13fac64"
      },
      "outputs": [
        {
          "name": "stdout",
          "output_type": "stream",
          "text": [
            "<class 'pandas.core.frame.DataFrame'>\n",
            "RangeIndex: 26232 entries, 0 to 26231\n",
            "Data columns (total 10 columns):\n",
            " #   Column         Non-Null Count  Dtype \n",
            "---  ------         --------------  ----- \n",
            " 0   Unnamed: 0     26232 non-null  int64 \n",
            " 1   അഭിനേതാക്കള്‍  8498 non-null   object\n",
            " 2   ഗാനരചന         25832 non-null  object\n",
            " 3   ഗായകര്‍        24981 non-null  object\n",
            " 4   വരികൾ          26029 non-null  object\n",
            " 5   വര്‍ഷം         26232 non-null  int32 \n",
            " 6   സംഗീതം         26170 non-null  object\n",
            " 7   സിനിമ          26232 non-null  object\n",
            " 8   രാഗം           3662 non-null   object\n",
            " 9   വര്‍ഗ്ഗീകരണം   2361 non-null   object\n",
            "dtypes: int32(1), int64(1), object(8)\n",
            "memory usage: 1.9+ MB\n"
          ]
        }
      ],
      "source": [
        "df.info()"
      ]
    },
    {
      "cell_type": "code",
      "execution_count": 10,
      "metadata": {
        "colab": {
          "base_uri": "https://localhost:8080/",
          "height": 170
        },
        "id": "CpfS3i-NLrCE",
        "outputId": "e45cd737-38e1-43a8-9fb5-8205ad949b51"
      },
      "outputs": [
        {
          "data": {
            "text/html": [
              "<div>\n",
              "<style scoped>\n",
              "    .dataframe tbody tr th:only-of-type {\n",
              "        vertical-align: middle;\n",
              "    }\n",
              "\n",
              "    .dataframe tbody tr th {\n",
              "        vertical-align: top;\n",
              "    }\n",
              "\n",
              "    .dataframe thead th {\n",
              "        text-align: right;\n",
              "    }\n",
              "</style>\n",
              "<table border=\"1\" class=\"dataframe\">\n",
              "  <thead>\n",
              "    <tr style=\"text-align: right;\">\n",
              "      <th></th>\n",
              "      <th>Unnamed: 0</th>\n",
              "      <th>അഭിനേതാക്കള്‍</th>\n",
              "      <th>ഗാനരചന</th>\n",
              "      <th>ഗായകര്‍</th>\n",
              "      <th>വരികൾ</th>\n",
              "      <th>വര്‍ഷം</th>\n",
              "      <th>സംഗീതം</th>\n",
              "      <th>സിനിമ</th>\n",
              "      <th>രാഗം</th>\n",
              "      <th>വര്‍ഗ്ഗീകരണം</th>\n",
              "    </tr>\n",
              "  </thead>\n",
              "  <tbody>\n",
              "    <tr>\n",
              "      <th>6994</th>\n",
              "      <td>6994</td>\n",
              "      <td>NaN</td>\n",
              "      <td>വയലാര്‍ രാമവര്‍മ്മ</td>\n",
              "      <td>കോറസ്‌</td>\n",
              "      <td>മുട്ടുവിൻ വാതിൽ തുറക്കും\\nഅതിർപ്പിൻ നിങ്ങൾക്കു...</td>\n",
              "      <td>1971</td>\n",
              "      <td>എം എസ്‌ ബാബുരാജ്‌</td>\n",
              "      <td>ലോറാ നീ എവിടെ</td>\n",
              "      <td>NaN</td>\n",
              "      <td>സംഘഗാനങ്ങള്‍</td>\n",
              "    </tr>\n",
              "  </tbody>\n",
              "</table>\n",
              "</div>"
            ],
            "text/plain": [
              "      Unnamed: 0 അഭിനേതാക്കള്‍               ഗാനരചന  ഗായകര്‍  \\\n",
              "6994        6994           NaN  വയലാര്‍ രാമവര്‍മ്മ   കോറസ്‌    \n",
              "\n",
              "                                                  വരികൾ  വര്‍ഷം   \\\n",
              "6994  മുട്ടുവിൻ വാതിൽ തുറക്കും\\nഅതിർപ്പിൻ നിങ്ങൾക്കു...     1971   \n",
              "\n",
              "                  സംഗീതം          സിനിമ രാഗം   വര്‍ഗ്ഗീകരണം  \n",
              "6994  എം എസ്‌ ബാബുരാജ്‌   ലോറാ നീ എവിടെ  NaN  സംഘഗാനങ്ങള്‍   "
            ]
          },
          "execution_count": 10,
          "metadata": {},
          "output_type": "execute_result"
        }
      ],
      "source": [
        "df.sample()"
      ]
    },
    {
      "cell_type": "code",
      "execution_count": 11,
      "metadata": {
        "id": "LuRKQW1nLvVJ"
      },
      "outputs": [],
      "source": [
        "df.drop(\"Unnamed: 0\",axis=1,inplace=True)"
      ]
    },
    {
      "cell_type": "code",
      "execution_count": 12,
      "metadata": {
        "colab": {
          "base_uri": "https://localhost:8080/"
        },
        "id": "ReiCv-aRNBJb",
        "outputId": "82ae8d3e-881b-45dd-e58a-7f18418f8929"
      },
      "outputs": [
        {
          "data": {
            "text/plain": [
              "അഭിനേതാക്കള്‍    17734\n",
              "ഗാനരചന             400\n",
              "ഗായകര്‍           1251\n",
              "വരികൾ              203\n",
              "വര്‍ഷം               0\n",
              "സംഗീതം              62\n",
              "സിനിമ                0\n",
              "രാഗം             22570\n",
              "വര്‍ഗ്ഗീകരണം     23871\n",
              "dtype: int64"
            ]
          },
          "execution_count": 12,
          "metadata": {},
          "output_type": "execute_result"
        }
      ],
      "source": [
        "df.isna().sum()"
      ]
    },
    {
      "cell_type": "code",
      "execution_count": 13,
      "metadata": {
        "id": "SJ5Ia93VNTYf"
      },
      "outputs": [],
      "source": [
        "df.drop(columns=['അഭിനേതാക്കള്‍', 'രാഗം','വര്‍ഗ്ഗീകരണം'],inplace=True)"
      ]
    },
    {
      "cell_type": "code",
      "execution_count": 14,
      "metadata": {
        "colab": {
          "base_uri": "https://localhost:8080/"
        },
        "id": "MVzbVXgrNibQ",
        "outputId": "6bb8cf26-90f8-4272-b0b6-58288b67c64e"
      },
      "outputs": [
        {
          "data": {
            "text/plain": [
              "ഗാനരചന      400\n",
              "ഗായകര്‍    1251\n",
              "വരികൾ       203\n",
              "വര്‍ഷം        0\n",
              "സംഗീതം       62\n",
              "സിനിമ         0\n",
              "dtype: int64"
            ]
          },
          "execution_count": 14,
          "metadata": {},
          "output_type": "execute_result"
        }
      ],
      "source": [
        "df.isna().sum()"
      ]
    },
    {
      "cell_type": "code",
      "execution_count": 15,
      "metadata": {
        "id": "oQTKv1TiN3Jr"
      },
      "outputs": [],
      "source": [
        "df.dropna(axis=0, how=\"any\", inplace=True)"
      ]
    },
    {
      "cell_type": "code",
      "execution_count": 16,
      "metadata": {
        "colab": {
          "base_uri": "https://localhost:8080/"
        },
        "id": "cCDCXKhTOP4T",
        "outputId": "02a3fb09-5788-48f3-a9ab-e8d848462780"
      },
      "outputs": [
        {
          "data": {
            "text/plain": [
              "ഗാനരചന     0\n",
              "ഗായകര്‍    0\n",
              "വരികൾ      0\n",
              "വര്‍ഷം     0\n",
              "സംഗീതം     0\n",
              "സിനിമ      0\n",
              "dtype: int64"
            ]
          },
          "execution_count": 16,
          "metadata": {},
          "output_type": "execute_result"
        }
      ],
      "source": [
        "df.isna().sum()"
      ]
    },
    {
      "cell_type": "code",
      "execution_count": 17,
      "metadata": {
        "colab": {
          "base_uri": "https://localhost:8080/"
        },
        "id": "k9C-tWbWOaRz",
        "outputId": "7d149b85-5d3f-46f5-b0de-6aa7ccb4df40"
      },
      "outputs": [
        {
          "data": {
            "text/plain": [
              "(24587, 6)"
            ]
          },
          "execution_count": 17,
          "metadata": {},
          "output_type": "execute_result"
        }
      ],
      "source": [
        "df.shape"
      ]
    },
    {
      "cell_type": "code",
      "execution_count": 18,
      "metadata": {
        "colab": {
          "base_uri": "https://localhost:8080/"
        },
        "id": "1APtOI0IQvJQ",
        "outputId": "09b6f52d-c91e-4957-ad2f-fab5cfec7787"
      },
      "outputs": [
        {
          "data": {
            "text/plain": [
              "6054"
            ]
          },
          "execution_count": 18,
          "metadata": {},
          "output_type": "execute_result"
        }
      ],
      "source": [
        "df['വരികൾ'].value_counts()['ഇവിടെ ക്ലിക്ക് ചെയ്തു ചേര്‍ക്കാം']"
      ]
    },
    {
      "cell_type": "code",
      "execution_count": 19,
      "metadata": {
        "id": "yhXKI9dyRPet"
      },
      "outputs": [],
      "source": [
        "cond = df[ (df['വരികൾ'] == 'ഇവിടെ ക്ലിക്ക് ചെയ്തു ചേര്‍ക്കാം') ].index\n",
        "df.drop(cond, axis=0, inplace=True)"
      ]
    },
    {
      "cell_type": "code",
      "execution_count": 20,
      "metadata": {
        "colab": {
          "base_uri": "https://localhost:8080/"
        },
        "id": "0DR5o9jeSyvr",
        "outputId": "fbf03d4b-209b-4ad9-a157-ee7056a15ad9"
      },
      "outputs": [
        {
          "data": {
            "text/plain": [
              "(18533, 6)"
            ]
          },
          "execution_count": 20,
          "metadata": {},
          "output_type": "execute_result"
        }
      ],
      "source": [
        "df.shape"
      ]
    },
    {
      "cell_type": "code",
      "execution_count": 21,
      "metadata": {},
      "outputs": [],
      "source": [
        "#df_num = df[df['വരികൾ'].str.contains('\\d')]\n",
        "#df_num.shape"
      ]
    },
    {
      "cell_type": "code",
      "execution_count": 22,
      "metadata": {},
      "outputs": [],
      "source": [
        "#df_num2 = df[df['വരികൾ'].str.contains('\\(\\d\\)')]\n",
        "#df_num2.sample(1).values[0]"
      ]
    },
    {
      "cell_type": "code",
      "execution_count": 23,
      "metadata": {},
      "outputs": [],
      "source": [
        "\n",
        "#df_num = df_num[~df_num['വരികൾ'].isin(df_num2['വരികൾ'])]"
      ]
    },
    {
      "cell_type": "code",
      "execution_count": 24,
      "metadata": {},
      "outputs": [],
      "source": [
        "#df_num.sample(1).values[0]"
      ]
    },
    {
      "cell_type": "code",
      "execution_count": 25,
      "metadata": {},
      "outputs": [
        {
          "name": "stderr",
          "output_type": "stream",
          "text": [
            "C:\\Users\\abhin\\AppData\\Local\\Temp\\ipykernel_17208\\2746192268.py:1: UserWarning: This pattern is interpreted as a regular expression, and has match groups. To actually get the groups, use str.extract.\n",
            "  df_num2 = df[df['വരികൾ'].str.contains('(.*)(\\[\\d\\])')]\n"
          ]
        }
      ],
      "source": [
        "df_num2 = df[df['വരികൾ'].str.contains('(.*)(\\[\\d\\])')]"
      ]
    },
    {
      "cell_type": "code",
      "execution_count": 32,
      "metadata": {},
      "outputs": [
        {
          "data": {
            "text/plain": [
              "array(['വേണുഗോപാല മേനോൻ (പി വേണു)', 'വാണി ജയറാം ',\n",
              "       'അറിഞ്ഞൂ സഖീ അറിഞ്ഞു\\nഅറിയാത്ത ഭാവത്തില്\\u200d\\nനിന്\\u200d കണ്\\u200d\\u200cമുനകളില്\\u200d\\nമറച്ചുവച്ച രഹസ്യം\\nമധുരമധുരമൊരു പ്രേമരഹസ്യം\\n(അറിഞ്ഞൂ...)\\n\\nപുളകങ്ങള്\\u200d പൂത്തുവിരിഞ്ഞു\\nമെയ്യാസകലം... മെയ്യാസകലം...\\nമദനപ്പൂ പൊട്ടിവിരിഞ്ഞു\\nമേലാസകലം... മേലാസകലം...\\nമലരമ്പന്\\u200d തൊടുത്തുവിട്ട\\nപുഷ്പബാണം... പുഷ്പബാണം\\nമദിരാക്ഷീ നിന്\\u200d നെഞ്ചിലേറ്റത്\\nഞങ്ങളറിഞ്ഞു... ഞങ്ങളറിഞ്ഞു...\\n(അറിഞ്ഞൂ...)\\n\\nകുങ്കുമപ്പൂത്താലി ചാര്\\u200dത്തിയ\\nമധുരപ്പതിനേഴില്\\u200d... [2]\\nകാമദേവന്\\u200d കരിമഷിയെഴുതി\\nനിന്\\u200d മിഴിയിണയില്\\u200d... [2]\\nസുഹാസിനി നീ നടന്നു\\nനീങ്ങുമ്പോള്\\u200d... നീങ്ങുമ്പോള്\\u200d...\\nനിന്\\u200d മനസ്സിലുള്ളൊരു വിശ്വാമിത്രനെ\\nഞങ്ങളറിഞ്ഞു... ഞങ്ങളറിഞ്ഞു...\\n(അറിഞ്ഞൂ...)',\n",
              "       1978, 'എം കെ അർജ്ജുനൻ ', 'ആള്\\u200dമാറാട്ടം'], dtype=object)"
            ]
          },
          "execution_count": 32,
          "metadata": {},
          "output_type": "execute_result"
        }
      ],
      "source": [
        "df_num2.sample(1).values[0]"
      ]
    },
    {
      "cell_type": "code",
      "execution_count": 33,
      "metadata": {},
      "outputs": [
        {
          "name": "stdout",
          "output_type": "stream",
          "text": [
            "match 1 \n",
            "മധുരാഗത്തേന്‍ തേടുവാന്‍ ... ഓ...[2]\n",
            " start index 436 End index 473\n",
            "match 2 \n",
            "മണ്ണിലീ പെണ്ണിനെന്നും മഹനീയ ബന്ധം നൽകും [2]\n",
            " start index 181 End index 226\n",
            "match 3 \n",
            "നീ വളർന്നെന്റെ മുന്നിൽ തണലായി നിൽക്കുബോളും [2]\n",
            " start index 335 End index 383\n",
            "match 4 \n",
            "കനിവിന്‍ ദീപ നാളം കണ്ണില്‍ കരുതി നിന്നായവര്‍ [2]\n",
            " start index 436 End index 486\n",
            "match 5 \n",
            "സഹജര്‍ നിന്റെ വഴികളിലൊന്നായ് വിജയമോതും ദിനം [2]\n",
            " start index 652 End index 701\n",
            "match 6 \n",
            "ശിവമല്ലിപ്പൂവുകളായി... [2]\n",
            " start index 103 End index 131\n",
            "match 7 \n",
            "പട്ടാഭിഷേകം... പട്ടാഭിഷേകം... [2]\n",
            " start index 292 End index 327\n",
            "match 8 \n",
            "അനിർവ്വചനീയമാം അസുലഭപുഷ്പമേ [2]\n",
            " start index 43 End index 76\n",
            "match 9 \n",
            "പുരികക്കൊടിയോ കാർക്കൂന്തളമോ [2]\n",
            " start index 180 End index 213\n",
            "match 10 \n",
            "നിറമാറിടമോ നീൾമിഴിമുനയോ[2]\n",
            " start index 301 End index 329\n",
            "match 11 \n",
            "ഒരുപാടെനിക്കിഷ്ടമായി [2]\n",
            " start index 51 End index 77\n",
            "match 12 \n",
            "ഒരുപാടെനിക്കിഷ്ടമായി [2]\n",
            " start index 511 End index 537\n",
            "match 13 \n",
            "എന്നിൽ കുറുകി നിൻ പ്രേമം... [2]\n",
            " start index 198 End index 231\n",
            "match 14 \n",
            "നിന്നിലുണരുമ്പോൾ [2]\n",
            " start index 230 End index 252\n",
            "match 15 \n",
            "ഗന്ധർവസ്വരമന്ത്രം [2]\n",
            " start index 382 End index 405\n",
            "match 16 \n",
            "തിടമാന്‍‌ പോലത്തെ മൊഞ്ച് കുടമാതളം പോല്‍ നെഞ്ച് [2]\n",
            " start index 246 End index 298\n",
            "match 17 \n",
            "മുംതാസിന്‍ മാണിക്യം ഹൂറി എന്നെ ഷാജഹാന്‍‌ ആക്കുന്ന ബീബി [2]\n",
            " start index 545 End index 605\n",
            "match 18 \n",
            "പ്രാണ ഹർഷം ഏകിടുവാൻ ദേവതയായ്‌ നീ അരികിൽ[2]\n",
            " start index 120 End index 164\n",
            "match 19 \n",
            "തെന്നൽ വന്നു വേൺചാമരം വീശിടുന്നു ഈ വേളയിൽ [2]\n",
            " start index 244 End index 291\n",
            "match 20 \n",
            "ഉണ്ണിക്കിനാവിലൊരൂഞ്ഞാല്‌ ചന്ദന പടിയുള്ളൊരൂഞ്ഞാല്‌ [2]\n",
            " start index 125 End index 180\n",
            "match 21 \n",
            "അമ്മക്കിളിയേയും കണ്ടു വായോ [2]\n",
            " start index 212 End index 244\n",
            "match 22 \n",
            "താമരകിണ്ണത്തിൽ എന്താണ്‌ മാമുണ്ണാൻ ഉണ്ണിക്കു പാൽച്ചോറ് [2]\n",
            " start index 351 End index 410\n",
            "match 23 \n",
            "എന്നുണ്ണി പൊന്നുണ്ണി പോയിവായോ [2]\n",
            " start index 448 End index 483\n",
            "match 24 \n",
            "കാവ്യ തല്ലജമാക്കി [2]\n",
            " start index 173 End index 196\n",
            "match 25 \n",
            "കൂട്ടുകാരിയായ് മാറി [2]\n",
            " start index 344 End index 369\n",
            "match 26 \n",
            "അനുരാഗം... മഴയായി... [2]\n",
            " start index 626 End index 652\n",
            "match 27 \n",
            "നിശയാകെ... നിറവോടെ... [2]\n",
            " start index 1109 End index 1136\n",
            "match 28 \n",
            "മധുരപ്പതിനേഴില്‍... [2]\n",
            " start index 368 End index 393\n",
            "match 29 \n",
            "നിന്‍ മിഴിയിണയില്‍... [2]\n",
            " start index 415 End index 442\n",
            "match 30 \n",
            "തം തനനനം തനാനന തം തനനനം [2]\n",
            " start index 276 End index 305\n",
            "match 31 \n",
            "തം തനനനം തനാനന തം തനനനം [4]\n",
            " start index 599 End index 628\n",
            "match 32 \n",
            "തം തനനനം തനാനന തം തനനനം [4]\n",
            " start index 872 End index 901\n",
            "match 33 \n",
            "ഝികി ഝികി തക്കം തെയ് [3]\n",
            " start index 89 End index 115\n",
            "match 34 \n",
            "ഞാൻ വന്നൊരു ഗദ്ഗദമായ് [2]\n",
            " start index 71 End index 98\n",
            "match 35 \n",
            "അത്രമേൽ സ്നേഹിച്ചതെന്തിനെന്നെ? [2]\n",
            " start index 61 End index 97\n",
            "match 36 \n",
            "ജീവ തന്തിയില്‍ ഇടറുമൊരു മിഴി നീര്‍കണം പോല്‍ നിന്നു ഞാന്‍ [2]\n",
            " start index 49 End index 111\n",
            "match 37 \n",
            "റസൂലേ റസൂലേ [2]\n",
            " start index 50 End index 67\n",
            "match 38 \n",
            "ത്വാഹാ മുഹമ്മദ്‌ മുസ്തഫാ ....[2]\n",
            " start index 239 End index 273\n",
            "match 39 \n",
            "പാരാകെ പാടുകയായ്‌ വന്നല്ലോ റബ്ബിന്‍ ദൂതന്‍ [2]\n",
            " start index 333 End index 381\n",
            "match 40 \n",
            "സ്വർഗ്ഗീയ സൗന്ദര്യം [2]\n",
            " start index 324 End index 349\n",
            "match 41 \n",
            "ഈ മധുരവും ഒരു നാളിൽ കൈയ്ക്കും [2]\n",
            " start index 463 End index 498\n",
            "match 42 \n",
            "ആ പ്രേമചഷകം എവിടെ [2]\n",
            " start index 552 End index 575\n",
            "match 43 \n",
            "തന നാനെ നാനെ ന നാനെ [2]\n",
            " start index 331 End index 356\n",
            "match 44 \n",
            "തന നാനെ നാനെ ന നാനെ [2]\n",
            " start index 570 End index 595\n",
            "match 45 \n",
            "പൊന്നരഞ്ഞാണം തീര്‍ക്കും [2]\n",
            " start index 401 End index 430\n",
            "match 46 \n",
            "പുടവമുറി ഞാന്‍ നെയ്യും [2]\n",
            " start index 605 End index 633\n",
            "match 47 \n",
            "സായാഹ്നമായ് താലോലമായ് [2]\n",
            " start index 210 End index 237\n",
            "match 48 \n",
            "ഊഞ്ഞാലിടാം പൂപ്പാലയില്‍ [2]\n",
            " start index 372 End index 401\n",
            "match 49 \n",
            "അറിയാതെ ഞാനുണര്‍ന്നു .. [2]\n",
            " start index 284 End index 313\n",
            "match 50 \n",
            "ഒരു മഞ്ഞക്കിളിയുടെ തൂവൽ പോലെ. [2]\n",
            " start index 39 End index 74\n",
            "match 51 \n",
            "ശ്യാമ ഹരിതമാം മെയ്യിൽ മുറിവുകളായ് [2]\n",
            " start index 418 End index 457\n",
            "match 52 \n",
            "ഝികി ഝികി തക്കം തെയ് [3]\n",
            " start index 25 End index 51\n",
            "match 53 \n",
            "ഝികി ഝികി തക്കം തെയ് [3]\n",
            " start index 207 End index 233\n",
            "match 54 \n",
            "മൂവന്തിയാളിരേ [2]\n",
            " start index 92 End index 111\n",
            "match 55 \n",
            "ഒരു നാളും തമ്മിൽ തമ്മിൽ മിണ്ടാതിനി വയ്യല്ലോ[2]\n",
            " start index 352 End index 400\n",
            "match 56 \n",
            "പേരാറ്റിൽ പൂഞ്ചുഴികൾക്കു തണുപ്പും പോരാ [2]\n",
            " start index 445 End index 489\n",
            "match 57 \n",
            "പൂട്ടിയുറങ്ങൂ നീ [2]\n",
            " start index 247 End index 269\n",
            "match 58 \n",
            "നിന്റെ ചിരി മാത്രം [2]\n",
            " start index 422 End index 446\n",
            "match 59 \n",
            "അണി മയിലാഞ്ചിയും അത്തറും പൂശി കസവിട്ട മണീത്തട്ടമണിഞ്ഞാട്ടേ [2]\n",
            " start index 327 End index 391\n",
            "match 60 \n",
            "മണിയറക്കൂട്ടിലെ മാണിക്ക്യ പ്രാവിന്റെ കുറുകുന്ന മനസ്സിനിലെന്തലിവാണ് [2]\n",
            " start index 747 End index 819\n",
            "match 61 \n",
            "സൂര്യനെ സ്നേഹിച്ച പൂവിന്റെ മോഹവും സൂര്യനും ദൂരെ എരിഞ്ഞു നില്‍ക്കെ ..[2]\n",
            " start index 189 End index 262\n",
            "match 62 \n",
            "പോക്കു വെയില്‍ നിന്‍ പ്രസാദം.. [2]\n",
            " start index 320 End index 356\n",
            "match 63 \n",
            "വാരി പുണര്‍ന്നു പിന്‍വാങ്ങും തിരയോട് കോരി തരിക്കുന്ന തീരമോതി.. [2]\n",
            " start index 434 End index 502\n",
            "match 64 \n",
            "മണ്‍തരിതന്‍ ആത്മഹര്‍ഷം [2]\n",
            " start index 563 End index 591\n",
            "match 65 \n",
            "വീണ്ടുമുയിര്‍ത്തെഴുന്നേറ്റു [2]\n",
            " start index 219 End index 252\n",
            "match 66 \n",
            "ഒന്നു തലോടുവാന്‍ മോഹം [2]\n",
            " start index 112 End index 139\n",
            "match 67 \n",
            "ചെമ്പനീര്‍ പൂവിനായ് വന്നു ഞാന്‍ [2]\n",
            " start index 178 End index 215\n",
            "match 68 \n",
            "വെള്ളരിപ്രാവിനായ് വന്നു ഞാന്‍ [2]\n",
            " start index 325 End index 360\n",
            "match 69 \n",
            "വൈശാഖ രാവിൽ വഴി മാറി വന്ന വെണ്മുകിലേ [2]\n",
            " start index 123 End index 165\n",
            "match 70 \n",
            "വഴിമാറി വന്നു മുളം തണ്ടിലേറിയ പൂന്തെന്നലേ [2]\n",
            " start index 258 End index 305\n",
            "match 71 \n",
            "സ്വർഗ്ഗീയ സൗന്ദര്യം [2]\n",
            " start index 324 End index 349\n",
            "match 72 \n",
            "ഈ മധുരവും ഒരു നാളിൽ കൈയ്ക്കും [2]\n",
            " start index 463 End index 498\n",
            "match 73 \n",
            "ആ പ്രേമചഷകം എവിടെ [2]\n",
            " start index 552 End index 575\n",
            "match 74 \n",
            "സത്യമേവ ജയതേ... [4]\n",
            " start index 104 End index 125\n"
          ]
        }
      ],
      "source": [
        "import re\n",
        "\n",
        "count = 0\n",
        "for x in df['വരികൾ']:\n",
        "    for match in re.finditer(r'\\n(.*)(\\[\\d\\])\\n', x):\n",
        "        count += 1\n",
        "        print(\"match\", count, match.group(), \"start index\", match.start(), \"End index\", match.end())   "
      ]
    }
  ],
  "metadata": {
    "colab": {
      "provenance": []
    },
    "kernelspec": {
      "display_name": "Python 3",
      "name": "python3"
    },
    "language_info": {
      "codemirror_mode": {
        "name": "ipython",
        "version": 3
      },
      "file_extension": ".py",
      "mimetype": "text/x-python",
      "name": "python",
      "nbconvert_exporter": "python",
      "pygments_lexer": "ipython3",
      "version": "3.11.0"
    }
  },
  "nbformat": 4,
  "nbformat_minor": 0
}
